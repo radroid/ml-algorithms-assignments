{
 "cells": [
  {
   "cell_type": "markdown",
   "id": "8cce4d50",
   "metadata": {},
   "source": [
    "# Assignment #1 – k-NN Regression\n",
    "In this jupyter notebook, we will create a **standard and optimized k-NN model** for the John Hughes. \n",
    "\n",
    "\n",
    "\n",
    "I will evaluate the number of clusters the dataset can be successfully divided into by the **K-Means Clustering** algorithm. The `Elbow` and `Silhouette` methods will be used to determine the optimum number of clusters. Ideally, we should see that there are two main clusters in the data as there are two cancer types: `malignant` and `benign`. I will be using the cancer dataset provided in the *Introduction to Data Analysis* course to train the model.\n",
    "\n",
    "**Lecturer: Sam Plati**<br></br>\n",
    "**Module: DATA 1200 - Introduction to Data Analysis**\n",
    "\n",
    "# Table of Contents:\n",
    "* [1. Dataset Information](#dataset-information)\n",
    "* [2. Loading Data](#loading-data)\n",
    "* [3. Pre-Processing Data](#preprocessing-data)\n",
    "* [4. Determining the Optimum Number of Clusters](#optimum-clusters)\n",
    "    * [4.1 Elbow Method](#elbow-method)\n",
    "    * [4.2 Silouette Method](#silhouette-method)\n",
    "* [5. Creating a K-means Model](#modelling)\n",
    "    * [5.1 K-means Model for Three Clusters](#modelling-2)\n",
    "\n",
    "\n",
    "<a id=\"dataset-information\"></a>\n",
    "## 1. Dataset Information\n",
    "The following information about the dependent and independent variables is provided by the lecturer.\n",
    "\n",
    "**Independent Variables:**\n",
    "- id: id number\n",
    "- Clump Thickness: 1 - 10\n",
    "- Uniformity of Cell Size: 1 - 10\n",
    "- Uniformity of Cell Shape: 1 - 10\n",
    "- Marginal Adhesion: 1 - 10\n",
    "- Single Epithelial Cell Size: 1 - 10\n",
    "- Bare Nuclei: 1 - 10\n",
    "- Bland Chromatin: 1 - 10\n",
    "- Normal Nucleoli: 1 - 10\n",
    "- Mitoses: 1 - 10\n",
    "\n",
    "**Dependent Variable:**\n",
    "- Class: (2 for benign, 4 for malignant)\n",
    "\n",
    "<a id=\"loading-data\"></a>\n",
    "## 2. Loading Data"
   ]
  },
  {
   "cell_type": "code",
   "execution_count": 4,
   "id": "99d28739",
   "metadata": {},
   "outputs": [],
   "source": [
    "#Load Libraries\n",
    "import numpy as np\n",
    "import pandas as pd\n",
    "import matplotlib.pyplot as plt\n",
    "%matplotlib inline\n",
    "import seaborn as sns\n",
    "\n",
    "import os\n",
    "import pathlib"
   ]
  },
  {
   "cell_type": "code",
   "execution_count": 5,
   "id": "85aa3093",
   "metadata": {},
   "outputs": [],
   "source": [
    "# Define location of the data\n",
    "data_dir = 'data'\n",
    "filename = 'abalone.csv'\n",
    "data_path = os.path.join(data_dir, filename)\n",
    "\n",
    "if not pathlib.Path(data_path).exists():\n",
    "    raise FileNotFoundError('No file found at the location defined.')"
   ]
  },
  {
   "cell_type": "code",
   "execution_count": null,
   "id": "6e91ce61",
   "metadata": {},
   "outputs": [],
   "source": [
    "\n",
    "\n",
    "#Load Dataset\n",
    "dataset = pd.read_csv('./mtcars.csv')\n",
    "dataset.head()"
   ]
  }
 ],
 "metadata": {
  "kernelspec": {
   "display_name": "Python 3",
   "language": "python",
   "name": "python3"
  },
  "language_info": {
   "codemirror_mode": {
    "name": "ipython",
    "version": 3
   },
   "file_extension": ".py",
   "mimetype": "text/x-python",
   "name": "python",
   "nbconvert_exporter": "python",
   "pygments_lexer": "ipython3",
   "version": "3.9.4"
  }
 },
 "nbformat": 4,
 "nbformat_minor": 5
}
